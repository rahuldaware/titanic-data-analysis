{
 "cells": [
  {
   "cell_type": "markdown",
   "metadata": {},
   "source": [
    "# Analysis of Titanic Passengers Dataset using Numpy and Pandas\n",
    "\n"
   ]
  },
  {
   "cell_type": "markdown",
   "metadata": {},
   "source": [
    "### Stage 1 : Importing Dataset and pandas, numpy"
   ]
  },
  {
   "cell_type": "code",
   "execution_count": 38,
   "metadata": {
    "collapsed": true
   },
   "outputs": [],
   "source": [
    "import numpy as np\n",
    "import pandas as pd\n",
    "import matplotlib.pyplot as plt\n",
    "import seaborn as sns\n",
    "%matplotlib inline  \n",
    "titanicdata = pd.read_csv(\"titanic-data.csv\")"
   ]
  },
  {
   "cell_type": "markdown",
   "metadata": {},
   "source": [
    "### Stage 2 : Data Cleaning\n",
    "\n",
    "From the first look of data set, some of the rows have missing age and Cabin data. Also, data like PassengerId,Ticket and Cabin is not useful for our analysis. Even the names are not useful. We are more interested to find out which factors helped the survival of some passengers. Hence, let us first clean our data set by removing the above mentioned columns and missing rows."
   ]
  },
  {
   "cell_type": "code",
   "execution_count": 39,
   "metadata": {
    "collapsed": false
   },
   "outputs": [
    {
     "data": {
      "text/html": [
       "<div>\n",
       "<table border=\"1\" class=\"dataframe\">\n",
       "  <thead>\n",
       "    <tr style=\"text-align: right;\">\n",
       "      <th></th>\n",
       "      <th>Survived</th>\n",
       "      <th>Pclass</th>\n",
       "      <th>Sex</th>\n",
       "      <th>Age</th>\n",
       "      <th>SibSp</th>\n",
       "      <th>Parch</th>\n",
       "      <th>Fare</th>\n",
       "      <th>Embarked</th>\n",
       "    </tr>\n",
       "  </thead>\n",
       "  <tbody>\n",
       "    <tr>\n",
       "      <th>0</th>\n",
       "      <td>0</td>\n",
       "      <td>3</td>\n",
       "      <td>male</td>\n",
       "      <td>22.0</td>\n",
       "      <td>1</td>\n",
       "      <td>0</td>\n",
       "      <td>7.2500</td>\n",
       "      <td>S</td>\n",
       "    </tr>\n",
       "    <tr>\n",
       "      <th>1</th>\n",
       "      <td>1</td>\n",
       "      <td>1</td>\n",
       "      <td>female</td>\n",
       "      <td>38.0</td>\n",
       "      <td>1</td>\n",
       "      <td>0</td>\n",
       "      <td>71.2833</td>\n",
       "      <td>C</td>\n",
       "    </tr>\n",
       "    <tr>\n",
       "      <th>2</th>\n",
       "      <td>1</td>\n",
       "      <td>3</td>\n",
       "      <td>female</td>\n",
       "      <td>26.0</td>\n",
       "      <td>0</td>\n",
       "      <td>0</td>\n",
       "      <td>7.9250</td>\n",
       "      <td>S</td>\n",
       "    </tr>\n",
       "    <tr>\n",
       "      <th>3</th>\n",
       "      <td>1</td>\n",
       "      <td>1</td>\n",
       "      <td>female</td>\n",
       "      <td>35.0</td>\n",
       "      <td>1</td>\n",
       "      <td>0</td>\n",
       "      <td>53.1000</td>\n",
       "      <td>S</td>\n",
       "    </tr>\n",
       "    <tr>\n",
       "      <th>4</th>\n",
       "      <td>0</td>\n",
       "      <td>3</td>\n",
       "      <td>male</td>\n",
       "      <td>35.0</td>\n",
       "      <td>0</td>\n",
       "      <td>0</td>\n",
       "      <td>8.0500</td>\n",
       "      <td>S</td>\n",
       "    </tr>\n",
       "  </tbody>\n",
       "</table>\n",
       "</div>"
      ],
      "text/plain": [
       "   Survived  Pclass     Sex   Age  SibSp  Parch     Fare Embarked\n",
       "0         0       3    male  22.0      1      0   7.2500        S\n",
       "1         1       1  female  38.0      1      0  71.2833        C\n",
       "2         1       3  female  26.0      0      0   7.9250        S\n",
       "3         1       1  female  35.0      1      0  53.1000        S\n",
       "4         0       3    male  35.0      0      0   8.0500        S"
      ]
     },
     "execution_count": 39,
     "metadata": {},
     "output_type": "execute_result"
    }
   ],
   "source": [
    "# Removing PassengerID, Cabin and Ticket Columns\n",
    "titanic_data = titanicdata.drop(['PassengerId','Name','Cabin','Ticket'],axis=1)\n",
    "titanic_data.head()"
   ]
  },
  {
   "cell_type": "code",
   "execution_count": 40,
   "metadata": {
    "collapsed": false
   },
   "outputs": [],
   "source": [
    "titanic_data_remove_na = titanic_data.dropna()"
   ]
  },
  {
   "cell_type": "markdown",
   "metadata": {},
   "source": [
    "### Stage 3 : Data Exploration\n",
    "\n",
    "Above, I have created two data frames. First frame contains NAN values and second does not contain any rows with NAN values.\n",
    "\n",
    "Let us explore some values from data. Let us start asking basic questions and then move to tough ones."
   ]
  },
  {
   "cell_type": "markdown",
   "metadata": {},
   "source": [
    "#### Question 1: How many people survived? Percentage ?\n",
    "\n",
    "Let us answer this question by converting 'Survived' column to Numpy Array"
   ]
  },
  {
   "cell_type": "code",
   "execution_count": 41,
   "metadata": {
    "collapsed": false
   },
   "outputs": [
    {
     "name": "stdout",
     "output_type": "stream",
     "text": [
      "342\n",
      "38.3838383838\n"
     ]
    }
   ],
   "source": [
    "survived = np.array(titanic_data['Survived'])\n",
    "no_people_survived = np.count_nonzero(survived)\n",
    "print no_people_survived\n",
    "\n",
    "percent_survived = (np.mean(survived)*100)\n",
    "print percent_survived"
   ]
  },
  {
   "cell_type": "markdown",
   "metadata": {},
   "source": [
    "#### Question 2: How many people were from first class, second class and third class?\n"
   ]
  },
  {
   "cell_type": "code",
   "execution_count": 42,
   "metadata": {
    "collapsed": false
   },
   "outputs": [
    {
     "name": "stdout",
     "output_type": "stream",
     "text": [
      "Pclass\n",
      "1    216\n",
      "2    184\n",
      "3    491\n",
      "dtype: int64\n"
     ]
    },
    {
     "data": {
      "text/plain": [
       "<matplotlib.text.Text at 0x7f5176fe62d0>"
      ]
     },
     "execution_count": 42,
     "metadata": {},
     "output_type": "execute_result"
    },
    {
     "data": {
      "image/png": "[encoded data removed]",
      "text/plain": [
       "<matplotlib.figure.Figure at 0x7f5176fdce50>"
      ]
     },
     "metadata": {},
     "output_type": "display_data"
    }
   ],
   "source": [
    "pclass = titanic_data.groupby('Pclass').size()\n",
    "print pclass\n",
    "pclass.plot(kind='bar')\n",
    "plt.title(\"Number of people in each passenger class\")\n",
    "plt.xlabel(\"Type of Class\")\n",
    "plt.ylabel(\"Number of people\")"
   ]
  },
  {
   "cell_type": "markdown",
   "metadata": {},
   "source": [
    "From above histogram, we can see that Class 1 had 216, Class 2 had 184 and Class 3 had 491 passengers"
   ]
  },
  {
   "cell_type": "markdown",
   "metadata": {},
   "source": [
    "#### Question 3: How many males and females were onboard?\n",
    "\n",
    "Using Pandas groupby() function to get number of males and females"
   ]
  },
  {
   "cell_type": "code",
   "execution_count": 43,
   "metadata": {
    "collapsed": false
   },
   "outputs": [
    {
     "data": {
      "text/plain": [
       "Sex\n",
       "female    314\n",
       "male      577\n",
       "dtype: int64"
      ]
     },
     "execution_count": 43,
     "metadata": {},
     "output_type": "execute_result"
    }
   ],
   "source": [
    "titanic_data.groupby('Sex').size()"
   ]
  },
  {
   "cell_type": "markdown",
   "metadata": {},
   "source": [
    "#### Question 4: What is average age? \n",
    "\n",
    "For this question, we need to remove all rows which do not have age information. After removing those rows, let us find the average age."
   ]
  },
  {
   "cell_type": "code",
   "execution_count": 44,
   "metadata": {
    "collapsed": false
   },
   "outputs": [
    {
     "name": "stdout",
     "output_type": "stream",
     "text": [
      "29.6420926966\n"
     ]
    },
    {
     "data": {
      "text/plain": [
       "<matplotlib.text.Text at 0x7f517390d450>"
      ]
     },
     "execution_count": 44,
     "metadata": {},
     "output_type": "execute_result"
    },
    {
     "data": {
      "image/png": "[encoded data removed]",
      "text/plain": [
       "<matplotlib.figure.Figure at 0x7f517397cd50>"
      ]
     },
     "metadata": {},
     "output_type": "display_data"
    }
   ],
   "source": [
    "print titanic_data_remove_na['Age'].mean()\n",
    "plt.hist(titanic_data_remove_na['Age'],bins=10)\n",
    "plt.title(\"Number of people by their ages\")\n",
    "plt.xlabel(\"Age in Years\")\n",
    "plt.ylabel(\"Number of people\")\n"
   ]
  },
  {
   "cell_type": "code",
   "execution_count": 45,
   "metadata": {
    "collapsed": false
   },
   "outputs": [
    {
     "data": {
      "text/plain": [
       "<matplotlib.text.Text at 0x7f5173901f10>"
      ]
     },
     "execution_count": 45,
     "metadata": {},
     "output_type": "execute_result"
    },
    {
     "data": {
      "image/png": "[encoded data removed]",
      "text/plain": [
       "<matplotlib.figure.Figure at 0x7f517383b9d0>"
      ]
     },
     "metadata": {},
     "output_type": "display_data"
    }
   ],
   "source": [
    "age = np.histogram(titanic_data_remove_na['Age'],bins=np.arange(titanic_data_remove_na['Age'].min(), titanic_data_remove_na['Age'].max()+1))\n",
    "plt.plot(age[0])\n",
    "plt.title(\"Number of people by their ages\")\n",
    "plt.xlabel(\"Age in Years\")\n",
    "plt.ylabel(\"Number of people\")"
   ]
  },
  {
   "cell_type": "markdown",
   "metadata": {},
   "source": [
    "#### Question 5: What is average fare of each class?\n",
    "\n",
    "For this problem, we need to group by passenger class and then calculate average fare over each class"
   ]
  },
  {
   "cell_type": "code",
   "execution_count": 46,
   "metadata": {
    "collapsed": false
   },
   "outputs": [
    {
     "data": {
      "text/plain": [
       "Pclass\n",
       "1    84.154687\n",
       "2    20.662183\n",
       "3    13.675550\n",
       "Name: Fare, dtype: float64"
      ]
     },
     "execution_count": 46,
     "metadata": {},
     "output_type": "execute_result"
    }
   ],
   "source": [
    "titanic_data.groupby('Pclass').mean()['Fare']"
   ]
  },
  {
   "cell_type": "markdown",
   "metadata": {},
   "source": [
    "#### Question 6: How many people embarked from S/C/Q? "
   ]
  },
  {
   "cell_type": "code",
   "execution_count": 47,
   "metadata": {
    "collapsed": false
   },
   "outputs": [
    {
     "data": {
      "text/plain": [
       "Embarked\n",
       "C    168\n",
       "Q     77\n",
       "S    644\n",
       "dtype: int64"
      ]
     },
     "execution_count": 47,
     "metadata": {},
     "output_type": "execute_result"
    }
   ],
   "source": [
    "titanic_data.groupby('Embarked').size()"
   ]
  },
  {
   "cell_type": "markdown",
   "metadata": {},
   "source": [
    "#### Question 7: How many people were travelling alone? (without siblings/spouse/parents/children)"
   ]
  },
  {
   "cell_type": "code",
   "execution_count": 48,
   "metadata": {
    "collapsed": false
   },
   "outputs": [
    {
     "data": {
      "text/plain": [
       "SibSp  Parch\n",
       "0      0        537\n",
       "       1         38\n",
       "       2         29\n",
       "       3          1\n",
       "       4          1\n",
       "       5          2\n",
       "1      0        123\n",
       "       1         57\n",
       "       2         19\n",
       "       3          3\n",
       "       4          3\n",
       "       5          3\n",
       "       6          1\n",
       "2      0         16\n",
       "       1          7\n",
       "       2          4\n",
       "       3          1\n",
       "3      0          2\n",
       "       1          7\n",
       "       2          7\n",
       "4      1          9\n",
       "       2          9\n",
       "5      2          5\n",
       "8      2          7\n",
       "dtype: int64"
      ]
     },
     "execution_count": 48,
     "metadata": {},
     "output_type": "execute_result"
    }
   ],
   "source": [
    "titanic_data.groupby(['SibSp','Parch']).size()"
   ]
  },
  {
   "cell_type": "markdown",
   "metadata": {},
   "source": [
    "This shows that 537 people were travelling alone."
   ]
  },
  {
   "cell_type": "markdown",
   "metadata": {
    "collapsed": true
   },
   "source": [
    "#### Question 8 : Is there a relationship between survival and passenger class? Were higher class passengers given preference for life boat?"
   ]
  },
  {
   "cell_type": "code",
   "execution_count": 49,
   "metadata": {
    "collapsed": false
   },
   "outputs": [
    {
     "name": "stdout",
     "output_type": "stream",
     "text": [
      "Percent of Class 1 survived:  62.962962963\n",
      "Percent of Class 2 survived:  47.2826086957\n",
      "Percent of Class 3 survived:  24.2362525458\n"
     ]
    }
   ],
   "source": [
    "# Total people by Passenger Class\n",
    "total_PClass = titanic_data.groupby('Pclass').size()\n",
    "total_PClass_Survived = titanic_data.groupby(['Pclass','Survived']).size()\n",
    "\n",
    "print \"Percent of Class 1 survived: \",(100.*total_PClass_Survived[1][1] / total_PClass[1])\n",
    "print \"Percent of Class 2 survived: \",(100.*total_PClass_Survived[2][1] / total_PClass[2])\n",
    "print \"Percent of Class 3 survived: \",(100.*total_PClass_Survived[3][1] / total_PClass[3])"
   ]
  },
  {
   "cell_type": "markdown",
   "metadata": {},
   "source": [
    "#### Question 9 : Were females preferred to  get a life boat than men? or vice versa? Is there a relationship between sex and survival?"
   ]
  },
  {
   "cell_type": "code",
   "execution_count": 50,
   "metadata": {
    "collapsed": false
   },
   "outputs": [
    {
     "name": "stdout",
     "output_type": "stream",
     "text": [
      "Percent of Males Survived:  18.8908145581\n",
      "Percent of Females Survived:  74.2038216561\n"
     ]
    }
   ],
   "source": [
    "#Total people by Sex\n",
    "total_sex = titanic_data.groupby('Sex').size()\n",
    "\n",
    "total_sex_survival = titanic_data.groupby(['Sex','Survived']).size()\n",
    "\n",
    "print \"Percent of Males Survived: \",(100.*total_sex_survival[3] / total_sex[1])\n",
    "print \"Percent of Females Survived: \",(100.*total_sex_survival[1] / total_sex[0])"
   ]
  },
  {
   "cell_type": "markdown",
   "metadata": {},
   "source": [
    "#### Question 10 : How much percent of children survived versus adults? (Assuming all those whose age is less than 18 are children) \n",
    "\n",
    "Lets try using functions and pandas applymap function for our analysis in this question."
   ]
  },
  {
   "cell_type": "code",
   "execution_count": 51,
   "metadata": {
    "collapsed": false
   },
   "outputs": [],
   "source": [
    "def isAdult(age):\n",
    "    if age < 18:\n",
    "        return 0\n",
    "    else:\n",
    "        return 1"
   ]
  },
  {
   "cell_type": "code",
   "execution_count": 52,
   "metadata": {
    "collapsed": false
   },
   "outputs": [
    {
     "name": "stderr",
     "output_type": "stream",
     "text": [
      "/home/rdaware/anaconda2/lib/python2.7/site-packages/ipykernel/__main__.py:4: SettingWithCopyWarning: \n",
      "A value is trying to be set on a copy of a slice from a DataFrame.\n",
      "Try using .loc[row_indexer,col_indexer] = value instead\n",
      "\n",
      "See the caveats in the documentation: http://pandas.pydata.org/pandas-docs/stable/indexing.html#indexing-view-versus-copy\n"
     ]
    }
   ],
   "source": [
    "test = titanic_data_remove_na\n",
    "age_data = pd.DataFrame(test['Age'])\n",
    "isAdult = age_data.applymap(isAdult)\n",
    "titanic_data_remove_na['isAdult'] = isAdult\n",
    "\n"
   ]
  },
  {
   "cell_type": "code",
   "execution_count": 53,
   "metadata": {
    "collapsed": false
   },
   "outputs": [
    {
     "name": "stdout",
     "output_type": "stream",
     "text": [
      "isAdult\n",
      "0    113\n",
      "1    599\n",
      "dtype: int64\n",
      "isAdult  Survived\n",
      "0        0            52\n",
      "         1            61\n",
      "1        0           372\n",
      "         1           227\n",
      "dtype: int64\n",
      "Percent of Kids Survived:  53.982300885\n",
      "Percent of Adults Survived:  37.8964941569\n"
     ]
    }
   ],
   "source": [
    "#Total people by isAdult\n",
    "total_isAdult = titanic_data_remove_na.groupby('isAdult').size()\n",
    "print total_isAdult\n",
    "\n",
    "total_isAdult_survived = titanic_data_remove_na.groupby(['isAdult','Survived']).size()\n",
    "print total_isAdult_survived\n",
    "\n",
    "print \"Percent of Kids Survived: \",(100.*total_isAdult_survived[0][1] / total_isAdult[0])\n",
    "print \"Percent of Adults Survived: \",(100.*total_isAdult_survived[1][1] / total_isAdult[1])"
   ]
  },
  {
   "cell_type": "markdown",
   "metadata": {},
   "source": [
    "### Stage 4 : Conclusion\n",
    "\n",
    "The dataset obtained had missing values in the age column. This hinders the analysis to some extent. Our analysis related to age would hae been more accurate if those missing values are present. To find the missing values, we need to perform more investigation or add random values.  \n",
    "\n",
    "From the above questions, we have got good understanding of the dataset. From the observations we made to each question, lets make a list of conclusion we can make\n",
    "  1. Only 38% of people could make it back from Titanic.\n",
    "  2. Class 1 had 216, Class 2 had 184 and Class 3 had 491 passengers.\n",
    "  3. There were 577 males and 314 females onboard.\n",
    "  4. The age of people was normally distributed with mean at 29.64 years.\n",
    "  5. The average fare of Class 1 was 84.15, Class 2 was 20.66 and Class 3 was 13.68\n",
    "  6. 168 passengers boarded from Cherbourg, 77 passengers boarded from Queenstown, and 644 passengers boarded from Southampton.\n",
    "  7. 537 people were travelling alone without any family members onboard.\n",
    "  8. We tried to find out if there is a relationship between class of travel and survival. This test will prove if higher class passengers were preferred to use rescue boats or not. From analysis, we found out that there is a relationship. There was 62.96% chance of survival if passenger had ticket from Class 1, 47.28% chance from Class 2 and 24.23% chance from Class 3.\n",
    "  9. In the next analysis, we tried to find out if females were preferred to rescue than males. We found out very strong relation between sex and survival. 74.2% of females survived as opposed to only 18.89% males.\n",
    "  10. Finally, we tried to find if children (age below 18) were preferred to rescue than adults. There was a higher survival rate for children marginally. 53.98% children survived as opposed to 37.89% adults."
   ]
  }
 ],
 "metadata": {
  "anaconda-cloud": {},
  "kernelspec": {
   "display_name": "Python [default]",
   "language": "python",
   "name": "python2"
  },
  "language_info": {
   "codemirror_mode": {
    "name": "ipython",
    "version": 2
   },
   "file_extension": ".py",
   "mimetype": "text/x-python",
   "name": "python",
   "nbconvert_exporter": "python",
   "pygments_lexer": "ipython2",
   "version": "2.7.12"
  }
 },
 "nbformat": 4,
 "nbformat_minor": 1
}
